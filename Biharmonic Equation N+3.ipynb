{
 "cells": [
  {
   "cell_type": "markdown",
   "source": [
    "# Biharmonic Equation in 2D Cartesian Coordinates"
   ],
   "metadata": {
    "collapsed": false
   },
   "id": "af29c234626a89af"
  },
  {
   "cell_type": "markdown",
   "source": [
    "**Settings**\n",
    "\n",
    "The Biharmonic function in 2d cartesian coordinates is:\n",
    "\\begin{equation}\n",
    "\\nabla^4 \\phi = \\nabla^2 (\\nabla^2 \\phi) = \\frac{\\partial^4 \\phi}{\\partial x^4} + 2 \\frac{\\partial^4 \\phi}{\\partial x^2 \\partial y^2} + \\frac{\\partial^4 \\phi}{\\partial y^4} = 0\n",
    "\\end{equation}\n",
    "\n",
    "With the boundary conditions:\n",
    "\n",
    "\\begin{equation}\n",
    "\\frac{\\partial \\phi}{\\partial x} = \\frac{\\partial \\phi}{\\partial y} = 0, \\quad & \\text{when } y = 0 \\text{ and } y = 1  \\\\\n",
    "\\frac{\\partial \\phi}{\\partial x} = 0, \\frac{\\partial \\phi}{\\partial y} = f(y), \\quad & \\text{when } x = 0 \\\\\n",
    "\\frac{\\partial \\phi}{\\partial x} = 0, \\frac{\\partial \\phi}{\\partial y} = g(y), \\quad & \\text{when } x = 1 \n",
    "\\end{equation}\n",
    "\n",
    "where assume \n",
    "\\begin{equation}\n",
    "f(y) = g(y) = \n",
    "\\begin{cases}\n",
    "C * ((\\lambda /2)^2 - (y-1/2)^2) \\qquad & 1/2 - \\lambda/2 < y < 1/2 + \\lambda/2\\\\\n",
    "0 \\qquad &  \\text{elsewhere}\n",
    "\\end{cases}\n",
    " \n",
    "\\end{equation}"
   ],
   "metadata": {
    "collapsed": false
   },
   "id": "a451fbbac10c2ad8"
  },
  {
   "cell_type": "markdown",
   "source": [
    "### Central Difference Discretization"
   ],
   "metadata": {
    "collapsed": false
   },
   "id": "2eb4e552060688d3"
  },
  {
   "cell_type": "markdown",
   "source": [
    "In this script:\n",
    "\n",
    "1. A 2D grid is created using `Nx` and `Ny` to specify the number of points in each direction.\n",
    "2. A mapping function `idx(i, j)` is defined to convert 2D grid coordinates to a single index for a 1D array representation.\n",
    "3. The matrix `A` is constructed using a finite difference approximation suitable for the biharmonic operator, considering the appropriate coefficients for the fourth derivatives.\n",
    "4. Neumann boundary conditions are applied to `A` by setting the first derivative to zero at the grid points adjacent to the boundaries using a first-order finite difference approximation.\n",
    "5. The matrix `A` is converted to Compressed Sparse Row (CSR) format for efficient storage and solving.\n",
    "6. The linear system is solved using `spsolve`, and the solution `phi` is reshaped back into a 2D array.\n",
    "7. The solution is plotted using `matplotlib` to visualize the function ($\\phi$).\n",
    "\n"
   ],
   "metadata": {
    "collapsed": false
   },
   "id": "8efaafd9248e4f49"
  },
  {
   "cell_type": "code",
   "outputs": [],
   "source": [
    "import numpy as np\n",
    "from scipy.sparse import lil_matrix\n",
    "from scipy.sparse.linalg import spsolve"
   ],
   "metadata": {
    "collapsed": false,
    "ExecuteTime": {
     "end_time": "2024-03-20T10:53:10.029483Z",
     "start_time": "2024-03-20T10:53:10.016141Z"
    }
   },
   "id": "84ab5386f12a294b",
   "execution_count": 31
  },
  {
   "cell_type": "code",
   "outputs": [],
   "source": [
    "# Define the grid\n",
    "Nx, Ny = 20, 20  # number of grid points in x and y direction\n",
    "x = np.linspace(0, 1, Nx+1)\n",
    "y = np.linspace(0, 1, Ny+1)\n",
    "dx, dy = x[1] - x[0], y[1] - y[0]\n",
    "\n",
    "# Count the number of rows in the matrix A\n",
    "count_row = 0\n"
   ],
   "metadata": {
    "collapsed": false,
    "ExecuteTime": {
     "end_time": "2024-03-20T10:53:10.136346Z",
     "start_time": "2024-03-20T10:53:10.130994Z"
    }
   },
   "id": "782a95ad56859e0a",
   "execution_count": 32
  },
  {
   "cell_type": "code",
   "outputs": [],
   "source": [
    "# Initialize the discretization matrix and right-hand side vector\n",
    "A = np.zeros(((Nx+3) * (Ny+3) + 20, (Nx+3) * (Ny+3))) # since we have more rows than columns, we manually set the shape of the matrix\n",
    "b = np.zeros((Nx+3) * (Ny+3) + 20) # the right-hand side vector, len(b) = the number of rows in A\n",
    "# import 2 external points to each boundary\n",
    "# U = [U-1-1, U-101 ... U-1N1, U-1N, U0-1, U00, U10 ... UN0, U10, U01, U11 ... UN1 ... U0N, U1N ... UNN, UN+1-1, UN+101 ... UN+1N1, UN+1N] with length (N+3)^2\n"
   ],
   "metadata": {
    "collapsed": false,
    "ExecuteTime": {
     "end_time": "2024-03-20T10:53:10.160789Z",
     "start_time": "2024-03-20T10:53:10.156348Z"
    }
   },
   "id": "787457c8ee59704a",
   "execution_count": 33
  },
  {
   "cell_type": "code",
   "outputs": [],
   "source": [
    "# Define function f(y) and g(y)\n",
    "def f(z, C = 30, lamb = 2/10):\n",
    "    # Step function\n",
    "    if 1/2 - lamb/2 < z < 1/2 + lamb/2:\n",
    "        return C * ((lamb/2)**2 - (z-1/2)**2)\n",
    "    else:\n",
    "        return 0\n",
    "\n",
    "def g(z):\n",
    "    return f(z)  # Since g(y) = f(y) in the problem definition"
   ],
   "metadata": {
    "collapsed": false,
    "ExecuteTime": {
     "end_time": "2024-03-20T10:53:10.186268Z",
     "start_time": "2024-03-20T10:53:10.181576Z"
    }
   },
   "id": "696d26a41a164daa",
   "execution_count": 34
  },
  {
   "cell_type": "code",
   "outputs": [],
   "source": [
    "# internal points\n",
    "# for i in range(2, Nx):  # Start from 2 and end at Nx-1 to avoid out-of-bounds\n",
    "# for j in range(2, Ny):  # Start from 2 and end at Ny-1 for the same reason\n",
    "# Ui-2,j - 8Ui-1,j + 20Ui,j - 8Ui+1,j + Ui+2,j + Ui,j-2 - 8Ui,j-1 - 8Ui,j+1 + Ui,j+2 + 2Ui-1,j-1 + 2Ui-1,j+1 + 2Ui+1,j-1 + 2Ui+1,j+1 = 0\n",
    "# rearranging the equation in the same order as the U vector\n",
    "# Ui,j-2 + 2Ui-1,j-1 - 8Ui,j-1 + 2Ui+1,j-1 + Ui-2,j - 8Ui-1,j + 20Ui,j - 8Ui+1,j + Ui+2,j + 2Ui-1,j+1 - 8Ui,j+1 + 2Ui+1,j+1 + Ui,j+2 = 0\n",
    "\n",
    "# boundary points\n",
    "# if j == 0 or j == Ny:\n",
    "# leapfrog finite difference approximation for the first derivative in BC\n",
    "# dphi/dx = 0 => (- Ui-1,j + Ui+1,j) / (2*dx) = 0\n",
    "# (- Ui-1,0 + Ui+1,0) / (2*dx) = 0\n",
    "# (- Ui-1,Ny + Ui+1,Ny) / (2*dx) = 0\n",
    "# dphi/dy = 0 => (- Ui,j-1 + Ui,j+1) / (2*dy) = 0\n",
    "# (- Ui,-1 + Ui,1) / (2*dy) = 0\n",
    "# (- Ui,Ny-1 + Ui,Ny+1) / (2*dy) = 0\n",
    "\n",
    "# if i == 0 or i == Nx:\n",
    "# leapfrog finite difference approximation for the first derivative in BC\n",
    "# dphi/dx = 0 => (Ui+1,j - Ui-1,j) / (2*dx) = 0\n",
    "# (- U-1,j + U1,j) / (2*dx) = 0\n",
    "# (- UNx-1,j + UNx+1,j) / (2*dx) = 0\n",
    "# dphi/dy = f(y) or g(y) => (Ui,j+1 - Ui,j-1) / (2*dy) = f(j*dy) or g(j*dy)\n",
    "# (- U0,j-1 + U0,j+1)/ (2*dy) = f(j*dy)\n",
    "# (- UNx,j-1 + UNx,j+1)/ (2*dy) = g(j*dy)\n"
   ],
   "metadata": {
    "collapsed": false,
    "ExecuteTime": {
     "end_time": "2024-03-20T10:53:10.201291Z",
     "start_time": "2024-03-20T10:53:10.197181Z"
    }
   },
   "id": "486c53ad4cf757a7",
   "execution_count": 35
  },
  {
   "cell_type": "code",
   "outputs": [],
   "source": [
    "# Function to map 2D grid coordinates to 1D vector index\n",
    "def idx(i, j):\n",
    "    return i * (Ny+3) + j\n"
   ],
   "metadata": {
    "collapsed": false,
    "ExecuteTime": {
     "end_time": "2024-03-20T10:53:10.215996Z",
     "start_time": "2024-03-20T10:53:10.212878Z"
    }
   },
   "id": "2b81e22aa9cadf19",
   "execution_count": 36
  },
  {
   "cell_type": "code",
   "outputs": [
    {
     "name": "stdout",
     "output_type": "stream",
     "text": [
      "count_row: 361\n"
     ]
    }
   ],
   "source": [
    "# Fill the matrix A and vector b for the internal points\n",
    "for row in range((Nx-1)*(Ny-1)):\n",
    "    # Second-order finite difference approximation for the biharmonic operator\n",
    "    for i in range(2, Nx + 1):  # Start from 2 and end at Nx-2 to avoid out-of-bounds\n",
    "        for j in range(2, Ny + 1):  # Start from 2 and end at Ny-2 for the same reason\n",
    "            index = idx(i, j)\n",
    "            # Ui,j-2 + 2Ui-1,j-1 - 8Ui,j-1 + 2Ui+1,j-1 + Ui-2,j - 8Ui-1,j + 20Ui,j - 8Ui+1,j + Ui+2,j + 2Ui-1,j+1 - 8Ui,j+1 + 2Ui+1,j+1 + Ui,j+2 = 0\n",
    "            A[count_row, idx(i, j-2)] = 1\n",
    "            A[count_row, idx(i-1, j-1)] = 2\n",
    "            A[count_row, idx(i, j-1)] = -8\n",
    "            A[count_row, idx(i+1, j-1)] = 2\n",
    "            A[count_row, idx(i-2, j)] = 1\n",
    "            A[count_row, idx(i-1, j)] = -8\n",
    "            A[count_row, idx(i, j)] = 20\n",
    "            A[count_row, idx(i+1, j)] = -8\n",
    "            A[count_row, idx(i+2, j)] = 1\n",
    "            A[count_row, idx(i-1, j+1)] = 2\n",
    "            A[count_row, idx(i, j+1)] = -8\n",
    "            A[count_row, idx(i+1, j+1)] = 2\n",
    "            A[count_row, idx(i, j+2)] = 1\n",
    "            \n",
    "    b[count_row] = 0\n",
    "    count_row += 1\n",
    "    \n",
    "print(f'count_row: {count_row}')"
   ],
   "metadata": {
    "collapsed": false,
    "ExecuteTime": {
     "end_time": "2024-03-20T10:53:11.068086Z",
     "start_time": "2024-03-20T10:53:10.228254Z"
    }
   },
   "id": "236bf1123483d66c",
   "execution_count": 37
  },
  {
   "cell_type": "code",
   "outputs": [
    {
     "name": "stdout",
     "output_type": "stream",
     "text": [
      "count_row: 382\n"
     ]
    }
   ],
   "source": [
    "# boundary points\n",
    "# y = 0:\n",
    "# (- Ui-1,0 + Ui+1,0) / (2*dx) = 0\n",
    "for i in range(1,Nx+2):\n",
    "    \n",
    "    A[count_row, idx(i+1, 1)] = 1\n",
    "    A[count_row, idx(i-1, 1)] = -1\n",
    "        \n",
    "    b[count_row] = 0\n",
    "    count_row += 1\n",
    "\n",
    "print(f'count_row: {count_row}')"
   ],
   "metadata": {
    "collapsed": false,
    "ExecuteTime": {
     "end_time": "2024-03-20T10:53:11.074793Z",
     "start_time": "2024-03-20T10:53:11.070648Z"
    }
   },
   "id": "b8c30c28c6224e0d",
   "execution_count": 38
  },
  {
   "cell_type": "code",
   "outputs": [
    {
     "name": "stdout",
     "output_type": "stream",
     "text": [
      "count_row: 403\n"
     ]
    }
   ],
   "source": [
    "# boundary points\n",
    "# y = 0: \n",
    "# (- Ui,-1 + Ui,1) / (2*dy) = 0\n",
    "for i in range(1,Nx+2):\n",
    "\n",
    "    A[count_row, idx(i, 2)] = 1\n",
    "    A[count_row, idx(i, 0)] = -1\n",
    "        \n",
    "    b[count_row] = 0\n",
    "    count_row += 1\n",
    "    \n",
    "print(f'count_row: {count_row}')"
   ],
   "metadata": {
    "collapsed": false,
    "ExecuteTime": {
     "end_time": "2024-03-20T10:53:11.081558Z",
     "start_time": "2024-03-20T10:53:11.076671Z"
    }
   },
   "id": "91302e699b8f30d",
   "execution_count": 39
  },
  {
   "cell_type": "code",
   "outputs": [
    {
     "name": "stdout",
     "output_type": "stream",
     "text": [
      "count_row: 424\n"
     ]
    }
   ],
   "source": [
    "# boundary points\n",
    "# y = 1: \n",
    "# (- Ui-1,Ny + Ui+1,Ny) / (2*dx) = 0\n",
    "for i in range(1,Nx+2):\n",
    "    \n",
    "    A[count_row, idx(i+1, Ny+1)] = 1\n",
    "    A[count_row, idx(i-1, Ny+1)] = -1\n",
    "        \n",
    "    b[count_row] = 0\n",
    "    count_row += 1\n",
    "\n",
    "print(f'count_row: {count_row}')"
   ],
   "metadata": {
    "collapsed": false,
    "ExecuteTime": {
     "end_time": "2024-03-20T10:53:11.089996Z",
     "start_time": "2024-03-20T10:53:11.085156Z"
    }
   },
   "id": "3e6acf799fb996d6",
   "execution_count": 40
  },
  {
   "cell_type": "code",
   "outputs": [
    {
     "name": "stdout",
     "output_type": "stream",
     "text": [
      "count_row: 445\n"
     ]
    }
   ],
   "source": [
    "# boundary points\n",
    "# y = 1: \n",
    "# (- Ui,Ny-1 + Ui,Ny+1) / (2*dy) = 0\n",
    "for i in range(1,Nx+2):\n",
    "    \n",
    "    A[count_row, idx(i, Ny+2)] = 1\n",
    "    A[count_row, idx(i, Ny)] = -1\n",
    "        \n",
    "    b[count_row] = 0\n",
    "    count_row += 1\n",
    "\n",
    "print(f'count_row: {count_row}')"
   ],
   "metadata": {
    "collapsed": false,
    "ExecuteTime": {
     "end_time": "2024-03-20T10:53:11.097580Z",
     "start_time": "2024-03-20T10:53:11.092043Z"
    }
   },
   "id": "2bfa434ce50ac184",
   "execution_count": 41
  },
  {
   "cell_type": "code",
   "outputs": [
    {
     "name": "stdout",
     "output_type": "stream",
     "text": [
      "count_row: 466\n"
     ]
    }
   ],
   "source": [
    "# boundary points\n",
    "# x = 0: \n",
    "# (- U-1,j + U1,j) / (2*dx) = 0\n",
    "for j in range(1,Nx+2):\n",
    "\n",
    "    A[count_row, idx(2, j)] = 1\n",
    "    A[count_row, idx(0, j)] = -1\n",
    "        \n",
    "    b[count_row] = 0\n",
    "    count_row += 1\n",
    "    \n",
    "print(f'count_row: {count_row}')"
   ],
   "metadata": {
    "collapsed": false,
    "ExecuteTime": {
     "end_time": "2024-03-20T10:53:11.105487Z",
     "start_time": "2024-03-20T10:53:11.099947Z"
    }
   },
   "id": "d8ee185c9e6e9212",
   "execution_count": 42
  },
  {
   "cell_type": "code",
   "outputs": [
    {
     "name": "stdout",
     "output_type": "stream",
     "text": [
      "count_row: 487\n"
     ]
    }
   ],
   "source": [
    "# boundary points\n",
    "# x = 1: \n",
    "# (- UNx-1,j + UNx+1,j) / (2*dx) = 0\n",
    "for j in range(1,Nx+2):\n",
    "    \n",
    "    A[count_row, idx(Nx+2, j)] = 1\n",
    "    A[count_row, idx(Nx, j)] = -1\n",
    "\n",
    "    b[count_row] = 0\n",
    "    count_row += 1\n",
    "\n",
    "print(f'count_row: {count_row}')"
   ],
   "metadata": {
    "collapsed": false,
    "ExecuteTime": {
     "end_time": "2024-03-20T10:53:11.113399Z",
     "start_time": "2024-03-20T10:53:11.107481Z"
    }
   },
   "id": "197b8e3ffc03722f",
   "execution_count": 43
  },
  {
   "cell_type": "code",
   "outputs": [
    {
     "name": "stdout",
     "output_type": "stream",
     "text": [
      "count_row: 508\n"
     ]
    }
   ],
   "source": [
    "# boundary points\n",
    "# x = 0: \n",
    "# (- U0,j-1 + U0,j+1)/ (2*dy) = f(j*dy)\n",
    "for j in range(1,Nx+2):\n",
    "\n",
    "    A[count_row, idx(1, j+1)] = 1/(2*dy)\n",
    "    A[count_row, idx(1, j-1)] = -1/(2*dy)\n",
    "    \n",
    "    b[count_row] = f((j-1)*dy)\n",
    "    count_row += 1\n",
    "\n",
    "print(f'count_row: {count_row}')"
   ],
   "metadata": {
    "collapsed": false,
    "ExecuteTime": {
     "end_time": "2024-03-20T10:53:11.121286Z",
     "start_time": "2024-03-20T10:53:11.115361Z"
    }
   },
   "id": "a47cd95835ada58",
   "execution_count": 44
  },
  {
   "cell_type": "code",
   "outputs": [
    {
     "name": "stdout",
     "output_type": "stream",
     "text": [
      "count_row: 529\n"
     ]
    }
   ],
   "source": [
    "# boundary points\n",
    "# x = 1: \n",
    "# (- UNx,j-1 + UNx,j+1)/ (2*dy) = g(j*dy)\n",
    "for j in range(1,Nx+2):\n",
    "\n",
    "    A[count_row, idx(Nx+1, j+1)] = 1/(2*dy)\n",
    "    A[count_row, idx(Nx+1, j)] = -1/(2*dy)\n",
    "    \n",
    "    b[count_row] = g((j-1)*dy)\n",
    "    count_row += 1\n",
    "    \n",
    "print(f'count_row: {count_row}')"
   ],
   "metadata": {
    "collapsed": false,
    "ExecuteTime": {
     "end_time": "2024-03-20T10:53:11.129588Z",
     "start_time": "2024-03-20T10:53:11.123551Z"
    }
   },
   "id": "d9601839b320cb8a",
   "execution_count": 45
  },
  {
   "cell_type": "code",
   "outputs": [
    {
     "data": {
      "text/plain": "array([[0., 0., 1., ..., 1., 0., 0.],\n       [0., 0., 1., ..., 1., 0., 0.],\n       [0., 0., 1., ..., 1., 0., 0.],\n       ...,\n       [0., 0., 0., ..., 0., 0., 0.],\n       [0., 0., 0., ..., 0., 0., 0.],\n       [0., 0., 0., ..., 0., 0., 0.]])"
     },
     "execution_count": 46,
     "metadata": {},
     "output_type": "execute_result"
    }
   ],
   "source": [
    "# show the matrix A in detail\n",
    "A"
   ],
   "metadata": {
    "collapsed": false,
    "ExecuteTime": {
     "end_time": "2024-03-20T10:53:11.140997Z",
     "start_time": "2024-03-20T10:53:11.133891Z"
    }
   },
   "id": "5f8c14ddf77dcc3a",
   "execution_count": 46
  },
  {
   "cell_type": "code",
   "outputs": [],
   "source": [
    "# Solve the linear system\n",
    "U, residuals, rank, s = np.linalg.lstsq(A, b, rcond=None)\n"
   ],
   "metadata": {
    "collapsed": false,
    "ExecuteTime": {
     "end_time": "2024-03-20T10:53:11.178113Z",
     "start_time": "2024-03-20T10:53:11.142793Z"
    }
   },
   "id": "dd88f6465b8c0809",
   "execution_count": 47
  },
  {
   "cell_type": "code",
   "outputs": [],
   "source": [
    "# Convert the solution to a 2D grid\n",
    "U_2d = U.reshape((Nx+3, Ny+3))"
   ],
   "metadata": {
    "collapsed": false,
    "ExecuteTime": {
     "end_time": "2024-03-20T10:53:11.183371Z",
     "start_time": "2024-03-20T10:53:11.180145Z"
    }
   },
   "id": "bc59d856176eec27",
   "execution_count": 48
  },
  {
   "cell_type": "code",
   "outputs": [],
   "source": [
    "# drop the first and last row and column\n",
    "phi = U_2d[1:-1, 1:-1]"
   ],
   "metadata": {
    "collapsed": false,
    "ExecuteTime": {
     "end_time": "2024-03-20T10:53:11.188967Z",
     "start_time": "2024-03-20T10:53:11.185469Z"
    }
   },
   "id": "d71013ed0fecee4d",
   "execution_count": 49
  },
  {
   "cell_type": "code",
   "outputs": [
    {
     "data": {
      "text/plain": "<Figure size 640x480 with 2 Axes>",
      "image/png": "[encoded data removed]"
     },
     "metadata": {},
     "output_type": "display_data"
    }
   ],
   "source": [
    "# Plot the solution\n",
    "import matplotlib.pyplot as plt\n",
    "\n",
    "X, Y = np.meshgrid(x, y)\n",
    "plt.contourf(Y, X, phi, cmap='viridis')\n",
    "plt.colorbar()\n",
    "plt.title('Solution ($\\Phi$) to the Biharmonic Equation')\n",
    "plt.xlabel('y')\n",
    "plt.ylabel('x')\n",
    "plt.show()\n"
   ],
   "metadata": {
    "collapsed": false,
    "ExecuteTime": {
     "end_time": "2024-03-20T10:53:11.463784Z",
     "start_time": "2024-03-20T10:53:11.190850Z"
    }
   },
   "id": "7b64bdb3ee4ebb8e",
   "execution_count": 50
  },
  {
   "cell_type": "code",
   "outputs": [
    {
     "data": {
      "text/plain": "<Figure size 640x480 with 2 Axes>",
      "image/png": "[encoded data removed]"
     },
     "metadata": {},
     "output_type": "display_data"
    }
   ],
   "source": [
    "import numpy as np\n",
    "import matplotlib.pyplot as plt\n",
    "\n",
    "# Assuming x, y, and phi are defined previously in your code:\n",
    "X, Y = np.meshgrid(x, y)\n",
    "\n",
    "plt.contourf(Y, X, phi, cmap='viridis')  # Filled contour plot\n",
    "plt.colorbar()  # Color bar for reference\n",
    "\n",
    "# Add contour lines over the filled contour plot:\n",
    "# Here, you can specify the number of levels or the specific levels you want to plot\n",
    "# For example, levels=10 will create 10 levels (auto-chosen), or you can pass a list\n",
    "# of values to specify the exact contour levels you want to see.\n",
    "plt.contour(Y, X, phi, colors='k', levels=10)  # 'k' stands for black color lines\n",
    "\n",
    "plt.title('Solution ($\\Phi$) to the Biharmonic Equation')\n",
    "plt.xlabel('y')\n",
    "plt.ylabel('x')\n",
    "plt.show()\n"
   ],
   "metadata": {
    "collapsed": false,
    "ExecuteTime": {
     "end_time": "2024-03-20T10:53:11.708224Z",
     "start_time": "2024-03-20T10:53:11.465763Z"
    }
   },
   "id": "7c34927e40d242c0",
   "execution_count": 51
  },
  {
   "cell_type": "code",
   "outputs": [],
   "source": [],
   "metadata": {
    "collapsed": false,
    "ExecuteTime": {
     "end_time": "2024-03-20T10:53:11.712383Z",
     "start_time": "2024-03-20T10:53:11.709740Z"
    }
   },
   "id": "51f76bbf3558ddef",
   "execution_count": 51
  }
 ],
 "metadata": {
  "kernelspec": {
   "display_name": "Python 3",
   "language": "python",
   "name": "python3"
  },
  "language_info": {
   "codemirror_mode": {
    "name": "ipython",
    "version": 2
   },
   "file_extension": ".py",
   "mimetype": "text/x-python",
   "name": "python",
   "nbconvert_exporter": "python",
   "pygments_lexer": "ipython2",
   "version": "2.7.6"
  }
 },
 "nbformat": 4,
 "nbformat_minor": 5
}
