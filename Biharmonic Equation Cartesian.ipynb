{
 "cells": [
  {
   "cell_type": "markdown",
   "source": [
    "# Biharmonic Equation in 2D Cartesian Coordinates"
   ],
   "metadata": {
    "collapsed": false
   },
   "id": "af29c234626a89af"
  },
  {
   "cell_type": "markdown",
   "source": [
    "\\begin{equation}\n",
    "\\nabla^4 \\phi = \\nabla^2 (\\nabla^2 \\phi) = \\frac{\\partial^4 \\phi}{\\partial x^4} + 2 \\frac{\\partial^4 \\phi}{\\partial x^2 \\partial y^2} + \\frac{\\partial^4 \\phi}{\\partial y^4} = 0\n",
    "\\end{equation}\n"
   ],
   "metadata": {
    "collapsed": false
   },
   "id": "d0fc11334aea20b2"
  },
  {
   "cell_type": "markdown",
   "source": [
    "**Settings**\n",
    "\n",
    "The Biharmonic function in 2d cartesian coordinates is:\n",
    "\\begin{equation}\n",
    "\\nabla^4 \\phi = \\nabla^2 (\\nabla^2 \\phi) = \\frac{\\partial^4 \\phi}{\\partial x^4} + 2 \\frac{\\partial^4 \\phi}{\\partial x^2 \\partial y^2} + \\frac{\\partial^4 \\phi}{\\partial y^4} = 0\n",
    "\\end{equation}\n",
    "\n",
    "With the boundary conditions:\n",
    "\n",
    "\\begin{equation}\n",
    "\\frac{\\partial \\phi}{\\partial x} = \\frac{\\partial \\phi}{\\partial y} = 0, \\quad \\text{when } y = 0 \\text{ and } y = 1  \\\\\n",
    "\\frac{\\partial \\phi}{\\partial x} = 0, \\frac{\\partial \\phi}{\\partial y} = f(y)  \\quad \\text{when } x = 0 \\\\\n",
    "\\frac{\\partial \\phi}{\\partial x} = 0, \\frac{\\partial \\phi}{\\partial y} = g(y)  \\quad \\text{when } x = 1 \n",
    "\\end{equation}\n"
   ],
   "metadata": {
    "collapsed": false
   },
   "id": "a451fbbac10c2ad8"
  },
  {
   "cell_type": "markdown",
   "source": [
    "### Central Difference Discretization"
   ],
   "metadata": {
    "collapsed": false
   },
   "id": "2eb4e552060688d3"
  },
  {
   "cell_type": "markdown",
   "source": [
    "In this script:\n",
    "\n",
    "1. A 2D grid is created using `Nx` and `Ny` to specify the number of points in each direction.\n",
    "2. A mapping function `idx(i, j)` is defined to convert 2D grid coordinates to a single index for a 1D array representation.\n",
    "3. The matrix `A` is constructed using a finite difference approximation suitable for the biharmonic operator, considering the appropriate coefficients for the fourth derivatives.\n",
    "4. Neumann boundary conditions are applied to `A` by setting the first derivative to zero at the grid points adjacent to the boundaries using a first-order finite difference approximation.\n",
    "5. The matrix `A` is converted to Compressed Sparse Row (CSR) format for efficient storage and solving.\n",
    "6. The linear system is solved using `spsolve`, and the solution `phi` is reshaped back into a 2D array.\n",
    "7. The solution is plotted using `matplotlib` to visualize the function ($\\phi$).\n",
    "\n"
   ],
   "metadata": {
    "collapsed": false
   },
   "id": "8efaafd9248e4f49"
  },
  {
   "cell_type": "code",
   "outputs": [],
   "source": [
    "import numpy as np\n",
    "from scipy.sparse import lil_matrix\n",
    "from scipy.sparse.linalg import spsolve"
   ],
   "metadata": {
    "collapsed": false,
    "ExecuteTime": {
     "end_time": "2024-03-18T22:10:04.545299Z",
     "start_time": "2024-03-18T22:10:04.541687Z"
    }
   },
   "id": "84ab5386f12a294b",
   "execution_count": 331
  },
  {
   "cell_type": "code",
   "outputs": [],
   "source": [
    "# Define the grid\n",
    "Nx, Ny = 5, 5  # number of grid points in x and y direction\n",
    "x = np.linspace(0, 1, Nx+1)\n",
    "y = np.linspace(0, 1, Ny+1)\n",
    "dx, dy = x[1] - x[0], y[1] - y[0]\n",
    "\n",
    "count_row = 0"
   ],
   "metadata": {
    "collapsed": false,
    "ExecuteTime": {
     "end_time": "2024-03-18T22:10:04.586951Z",
     "start_time": "2024-03-18T22:10:04.581044Z"
    }
   },
   "id": "782a95ad56859e0a",
   "execution_count": 332
  },
  {
   "cell_type": "code",
   "outputs": [],
   "source": [
    "# Initialize the discretization matrix and right-hand side vector\n",
    "A = np.zeros(((Nx+1) * (Ny+1) + 20, (Nx+1) * (Ny+1)))\n",
    "b = np.zeros((Nx+1) * (Ny+1) + 20)\n",
    "# U = [U00, U10 ... UN0, U10, U01, U11 ... UN1 ... U0N, U1N ... UNN] with length (N+1)^2\n"
   ],
   "metadata": {
    "collapsed": false,
    "ExecuteTime": {
     "end_time": "2024-03-18T22:10:04.638315Z",
     "start_time": "2024-03-18T22:10:04.633711Z"
    }
   },
   "id": "787457c8ee59704a",
   "execution_count": 333
  },
  {
   "cell_type": "code",
   "outputs": [],
   "source": [
    "# Define function f(y) and g(y)\n",
    "def f(z):\n",
    "    return 30 * ((1/10)**2 - (z-1/2)**2)\n",
    "\n",
    "def g(z):\n",
    "    return 30*((1/10)**2 - (z-1/2)**2)\n"
   ],
   "metadata": {
    "collapsed": false,
    "ExecuteTime": {
     "end_time": "2024-03-18T22:10:04.685258Z",
     "start_time": "2024-03-18T22:10:04.655678Z"
    }
   },
   "id": "8128fd544360f37c",
   "execution_count": 334
  },
  {
   "cell_type": "code",
   "outputs": [],
   "source": [
    "# internal points\n",
    "# for i in range(2, Nx - 1):  # Start from 2 and end at Nx-2 to avoid out-of-bounds\n",
    "# for j in range(2, Ny - 1):  # Start from 2 and end at Ny-2 for the same reason\n",
    "# Ui-2,j - 8Ui-1,j + 20Ui,j - 8Ui+1,j + Ui+2,j + Ui,j-2 - 8Ui,j-1 - 8Ui,j+1 + Ui,j+2 + 2Ui-1,j-1 + 2Ui-1,j+1 + 2Ui+1,j-1 + 2Ui+1,j+1 = 0\n",
    "# rearranging the equation in the same order as the U vector\n",
    "# Ui,j-2 + 2Ui-1,j-1 - 8Ui,j-1 + 2Ui+1,j-1 + Ui-2,j - 8Ui-1,j + 20Ui,j - 8Ui+1,j + Ui+2,j + 2Ui-1,j+1 - 8Ui,j+1 + 2Ui+1,j+1 + Ui,j+2 = 0\n",
    "\n",
    "# boundary points\n",
    "# if j == 0 or j == Ny:\n",
    "# Ui+1,j - Ui,j = 0\n",
    "# Ui,1 - Ui,0 = 0\n",
    "# Ui,Ny - Ui,Ny-1 = 0\n",
    "\n",
    "# if i == 0 or i == Nx:\n",
    "# U1,j - U0,j = 0\n",
    "# UNx,j - UNx-1,j = 0\n",
    "# (U0,j+1 - U0,j)/dy = f(j*dy)\n",
    "# (UNx,j+1 - UNx,j)/dy = g(j*dy)\n",
    "\n",
    "# if i == 1 and j > 1 and j < Ny-1:\n",
    "# U5,j - 4U4,j + 2U3,j +4U2,j + 3U1,j + U1,j-2 - 2U1,j-1 - 2U1,j+1 + U1,j+2 + 2U3,j-1 - 4U2,j-1 + 2U3,j+1 - 4U2,j+1 = 0\n",
    "# rearranging the equation in the same order as the U vector\n",
    "# U1,j-2 - 2U1,j-1 - 4U2,j-1 + 2U3,j-1 + 3U1,j +4U2,j + 2U3,j - 4U4,j + U5,j - 2U1,j+1 - 4U2,j+1 + 2U3,j+1 + U1,j+2 = 0\n",
    "\n",
    "# if j == 1 and i > 1 and i < Nx-1:\n",
    "# Ui,5 - 4Ui,4 + 2Ui,3 + 4Ui,2 + 3Ui,1 + Ui-2,1 - 2Ui-1,1 - 2Ui+1,1 + Ui+2,1 + 2Ui-1,3 - 4Ui-1,2 + 2Ui+1,3 - 4Ui+1,2 = 0\n",
    "# rearranging the equation in the same order as the U vector\n",
    "# Ui-2,1 - 2Ui-1,1 + 3Ui,1 - 2Ui+1,1 + Ui+2,1 - 4Ui-1,2 + 4Ui,2 - 4Ui+1,2 + 2Ui-1,3 + 2Ui,3 + 2Ui+1,3 - 4Ui,4 + Ui,5 = 0\n",
    "\n",
    "# if i == 1 and j == 1:\n",
    "# U5,1 - 4U4,1 + 7U3,1 - 6U2,1 + U1,1 + U1,5 - 4U1,4 + 7U1,3 - 6U1,2 + U3,3 - 2U2,3 - 2U3,2 + 4U2,2 = 0\n",
    "# rearranging the equation in the same order as the U vector\n",
    "# U1,1 - 6U2,1 + 7U3,1 - 4U4,1 + U5,1 - 6U1,2 + 4U2,2 - 2U3,2 + 7U1,3 - 2U2,3 + U3,3 - 4U1,4 + U1,5 = 0\n",
    "\n",
    "# if i == 1 and j == Ny-1:\n",
    "\n",
    "\n",
    "# if i == Nx-1 and j > 1 and j < Ny-1:\n",
    "\n",
    "\n",
    "# if j == Ny-1 and i > 1 and i < Nx-1:\n",
    "\n",
    "\n",
    "# if i == Nx-1 and j == 1:\n",
    "\n",
    "\n",
    "# if j == Ny-1 and i == Nx-1:\n"
   ],
   "metadata": {
    "collapsed": false,
    "ExecuteTime": {
     "end_time": "2024-03-18T22:10:04.692209Z",
     "start_time": "2024-03-18T22:10:04.687852Z"
    }
   },
   "id": "486c53ad4cf757a7",
   "execution_count": 335
  },
  {
   "cell_type": "code",
   "outputs": [],
   "source": [
    "# Function to map 2D grid coordinates to 1D vector index\n",
    "def idx(i, j):\n",
    "    return i * (Ny+1) + j"
   ],
   "metadata": {
    "collapsed": false,
    "ExecuteTime": {
     "end_time": "2024-03-18T22:10:04.698395Z",
     "start_time": "2024-03-18T22:10:04.694919Z"
    }
   },
   "id": "2b81e22aa9cadf19",
   "execution_count": 336
  },
  {
   "cell_type": "code",
   "outputs": [
    {
     "name": "stdout",
     "output_type": "stream",
     "text": [
      "0\n",
      "1\n",
      "2\n",
      "3\n",
      "count_row: 4\n"
     ]
    }
   ],
   "source": [
    "# Fill the matrix A and vector b for the internal points\n",
    "for row in range((Nx-3)*(Ny-3)):\n",
    "    print(row)\n",
    "    \n",
    "    for i in range(2, Nx - 1):  # Start from 2 and end at Nx-2 to avoid out-of-bounds\n",
    "        for j in range(2, Ny - 1):  # Start from 2 and end at Ny-2 for the same reason\n",
    "            index = idx(i, j)\n",
    "            # Ui,j-2 + 2Ui-1,j-1 - 8Ui,j-1 + 2Ui+1,j-1 + Ui-2,j - 8Ui-1,j + 20Ui,j - 8Ui+1,j + Ui+2,j + 2Ui-1,j+1 - 8Ui,j+1 + 2Ui+1,j+1 + Ui,j+2 = 0\n",
    "            A[count_row, idx(i, j-2)] = 1\n",
    "            A[count_row, idx(i-1, j-1)] = 2\n",
    "            A[count_row, idx(i, j-1)] = -8\n",
    "            A[count_row, idx(i+1, j-1)] = 2\n",
    "            A[count_row, idx(i-2, j)] = 1\n",
    "            A[count_row, idx(i-1, j)] = -8\n",
    "            A[count_row, idx(i, j)] = 20\n",
    "            A[count_row, idx(i+1, j)] = -8\n",
    "            A[count_row, idx(i+2, j)] = 1\n",
    "            A[count_row, idx(i-1, j+1)] = 2\n",
    "            A[count_row, idx(i, j+1)] = -8\n",
    "            A[count_row, idx(i+1, j+1)] = 2\n",
    "            A[count_row, idx(i, j+2)] = 1\n",
    "            \n",
    "    b[count_row] = 0\n",
    "    count_row += 1\n",
    "    \n",
    "print(f'count_row: {count_row}')"
   ],
   "metadata": {
    "collapsed": false,
    "ExecuteTime": {
     "end_time": "2024-03-18T22:10:04.709638Z",
     "start_time": "2024-03-18T22:10:04.700905Z"
    }
   },
   "id": "236bf1123483d66c",
   "execution_count": 337
  },
  {
   "cell_type": "code",
   "outputs": [
    {
     "name": "stdout",
     "output_type": "stream",
     "text": [
      "count_row: 9\n"
     ]
    }
   ],
   "source": [
    "# boundary points\n",
    "# y = 0: Ui+1,0 - Ui,0 = 0\n",
    "for i in range(Nx):\n",
    "    A[count_row, idx(i+1, 0)] = 1\n",
    "    A[count_row, idx(i, 0)] = -1\n",
    "        \n",
    "    b[count_row] = 0\n",
    "    count_row += 1\n",
    "\n",
    "print(f'count_row: {count_row}')"
   ],
   "metadata": {
    "collapsed": false,
    "ExecuteTime": {
     "end_time": "2024-03-18T22:10:04.716102Z",
     "start_time": "2024-03-18T22:10:04.711961Z"
    }
   },
   "id": "b8c30c28c6224e0d",
   "execution_count": 338
  },
  {
   "cell_type": "code",
   "outputs": [
    {
     "name": "stdout",
     "output_type": "stream",
     "text": [
      "count_row: 15\n"
     ]
    }
   ],
   "source": [
    "# boundary points\n",
    "# y = 0: Ui,1 - Ui,0 = 0\n",
    "for i in range(Nx+1):\n",
    "    A[count_row, idx(i, 1)] = 1\n",
    "    A[count_row, idx(i, 0)] = -1\n",
    "        \n",
    "    b[count_row] = 0\n",
    "    count_row += 1\n",
    "    \n",
    "print(f'count_row: {count_row}')"
   ],
   "metadata": {
    "collapsed": false,
    "ExecuteTime": {
     "end_time": "2024-03-18T22:10:04.725074Z",
     "start_time": "2024-03-18T22:10:04.720676Z"
    }
   },
   "id": "91302e699b8f30d",
   "execution_count": 339
  },
  {
   "cell_type": "code",
   "outputs": [
    {
     "name": "stdout",
     "output_type": "stream",
     "text": [
      "count_row: 20\n"
     ]
    }
   ],
   "source": [
    "# boundary points\n",
    "# y = 1: Ui+1,Ny - Ui,Ny = 0\n",
    "for i in range(Nx):\n",
    "    A[count_row, idx(i+1, Ny)] = 1\n",
    "    A[count_row, idx(i, Ny)] = -1\n",
    "        \n",
    "    b[count_row] = 0\n",
    "    count_row += 1\n",
    "\n",
    "print(f'count_row: {count_row}')"
   ],
   "metadata": {
    "collapsed": false,
    "ExecuteTime": {
     "end_time": "2024-03-18T22:10:04.733945Z",
     "start_time": "2024-03-18T22:10:04.729244Z"
    }
   },
   "id": "3e6acf799fb996d6",
   "execution_count": 340
  },
  {
   "cell_type": "code",
   "outputs": [
    {
     "name": "stdout",
     "output_type": "stream",
     "text": [
      "count_row: 26\n"
     ]
    }
   ],
   "source": [
    "# boundary points\n",
    "# y = 1: Ui,Ny - Ui,Ny-1 = 0\n",
    "for i in range(Nx+1):\n",
    "    A[count_row, idx(i, Ny)] = 1\n",
    "    A[count_row, idx(i, Ny-1)] = -1\n",
    "        \n",
    "    b[count_row] = 0\n",
    "    count_row += 1\n",
    "\n",
    "print(f'count_row: {count_row}')"
   ],
   "metadata": {
    "collapsed": false,
    "ExecuteTime": {
     "end_time": "2024-03-18T22:10:04.742632Z",
     "start_time": "2024-03-18T22:10:04.738346Z"
    }
   },
   "id": "2bfa434ce50ac184",
   "execution_count": 341
  },
  {
   "cell_type": "code",
   "outputs": [
    {
     "name": "stdout",
     "output_type": "stream",
     "text": [
      "count_row: 32\n"
     ]
    }
   ],
   "source": [
    "# boundary points\n",
    "# x = 0: U1,j - U0,j = 0\n",
    "for j in range(Ny+1):\n",
    "    A[count_row, idx(1, j)] = 1\n",
    "    A[count_row, idx(0, j)] = -1\n",
    "        \n",
    "    b[count_row] = 0\n",
    "    count_row += 1\n",
    "    \n",
    "print(f'count_row: {count_row}')"
   ],
   "metadata": {
    "collapsed": false,
    "ExecuteTime": {
     "end_time": "2024-03-18T22:10:04.780191Z",
     "start_time": "2024-03-18T22:10:04.774646Z"
    }
   },
   "id": "d8ee185c9e6e9212",
   "execution_count": 342
  },
  {
   "cell_type": "code",
   "outputs": [
    {
     "name": "stdout",
     "output_type": "stream",
     "text": [
      "count_row: 38\n"
     ]
    }
   ],
   "source": [
    "# boundary points\n",
    "# x = 1: UNx,j - UNx-1,j = 0\n",
    "for j in range(Ny+1):\n",
    "    A[count_row, idx(Nx, j)] = 1\n",
    "    A[count_row, idx(Nx-1, j)] = -1\n",
    "        \n",
    "    b[count_row] = 0\n",
    "    count_row += 1\n",
    "\n",
    "print(f'count_row: {count_row}')"
   ],
   "metadata": {
    "collapsed": false,
    "ExecuteTime": {
     "end_time": "2024-03-18T22:10:04.792812Z",
     "start_time": "2024-03-18T22:10:04.788913Z"
    }
   },
   "id": "197b8e3ffc03722f",
   "execution_count": 343
  },
  {
   "cell_type": "code",
   "outputs": [
    {
     "name": "stdout",
     "output_type": "stream",
     "text": [
      "count_row: 43\n"
     ]
    }
   ],
   "source": [
    "# boundary points\n",
    "# x = 0: (U0,j+1 - U0,j)/dy = f(j*dy)\n",
    "for j in range(Ny):\n",
    "    A[count_row, idx(0, j+1)] = 1/dy\n",
    "    A[count_row, idx(0, j)] = -1/dy\n",
    "    if j == 0 or j == 1 or j == Ny-1 or j == Ny-2:\n",
    "        b[count_row] = 0\n",
    "    # middle 1/5\n",
    "    else:\n",
    "        b[count_row] = f(j*dy)\n",
    "    count_row += 1\n",
    "    \n",
    "print(f'count_row: {count_row}')"
   ],
   "metadata": {
    "collapsed": false,
    "ExecuteTime": {
     "end_time": "2024-03-18T22:10:04.803774Z",
     "start_time": "2024-03-18T22:10:04.798985Z"
    }
   },
   "id": "fe589852305ee0af",
   "execution_count": 344
  },
  {
   "cell_type": "code",
   "outputs": [
    {
     "name": "stdout",
     "output_type": "stream",
     "text": [
      "count_row: 48\n"
     ]
    }
   ],
   "source": [
    "# boundary points\n",
    "# x = 1: (UNx,j+1 - UNx,j)/dy = g(j*dy)\n",
    "for j in range(Ny):\n",
    "    A[count_row, idx(Nx, j+1)] = 1/dy\n",
    "    A[count_row, idx(Nx, j)] = -1/dy\n",
    "    if j == 0 or j == 1 or j == Ny-1 or j == Ny-2:\n",
    "        b[count_row] = 0\n",
    "    # middle 1/5\n",
    "    else:\n",
    "        b[count_row] = g(j*dy)\n",
    "    count_row += 1\n",
    "    \n",
    "print(f'count_row: {count_row}')"
   ],
   "metadata": {
    "collapsed": false,
    "ExecuteTime": {
     "end_time": "2024-03-18T22:10:04.837741Z",
     "start_time": "2024-03-18T22:10:04.832072Z"
    }
   },
   "id": "10ba2abb292f0c04",
   "execution_count": 345
  },
  {
   "cell_type": "code",
   "outputs": [
    {
     "data": {
      "text/plain": "array([[0., 0., 1., ..., 1., 0., 0.],\n       [0., 0., 1., ..., 1., 0., 0.],\n       [0., 0., 1., ..., 1., 0., 0.],\n       ...,\n       [0., 0., 0., ..., 0., 0., 0.],\n       [0., 0., 0., ..., 0., 0., 0.],\n       [0., 0., 0., ..., 0., 0., 0.]])"
     },
     "execution_count": 346,
     "metadata": {},
     "output_type": "execute_result"
    }
   ],
   "source": [
    "# show the matrix A in detail\n",
    "A"
   ],
   "metadata": {
    "collapsed": false,
    "ExecuteTime": {
     "end_time": "2024-03-18T22:10:04.851912Z",
     "start_time": "2024-03-18T22:10:04.846161Z"
    }
   },
   "id": "5f8c14ddf77dcc3a",
   "execution_count": 346
  },
  {
   "cell_type": "code",
   "outputs": [],
   "source": [
    "# Solve the linear system\n",
    "U, residuals, rank, s = np.linalg.lstsq(A, b, rcond=None)"
   ],
   "metadata": {
    "collapsed": false,
    "ExecuteTime": {
     "end_time": "2024-03-18T22:10:04.860593Z",
     "start_time": "2024-03-18T22:10:04.856906Z"
    }
   },
   "id": "dd88f6465b8c0809",
   "execution_count": 347
  },
  {
   "cell_type": "code",
   "outputs": [],
   "source": [
    "# Convert the solution to a 2D grid\n",
    "phi = U.reshape((Nx+1, Ny+1))"
   ],
   "metadata": {
    "collapsed": false,
    "ExecuteTime": {
     "end_time": "2024-03-18T22:10:04.895544Z",
     "start_time": "2024-03-18T22:10:04.892315Z"
    }
   },
   "id": "bc59d856176eec27",
   "execution_count": 348
  },
  {
   "cell_type": "code",
   "outputs": [
    {
     "data": {
      "text/plain": "<Figure size 640x480 with 2 Axes>",
      "image/png": "[encoded data removed]"
     },
     "metadata": {},
     "output_type": "display_data"
    }
   ],
   "source": [
    "# Plot the solution\n",
    "import matplotlib.pyplot as plt\n",
    "\n",
    "X, Y = np.meshgrid(x, y)\n",
    "plt.contourf(Y, X, phi, cmap='viridis')\n",
    "plt.colorbar()\n",
    "plt.title('Solution ($\\Phi$) to the Biharmonic Equation')\n",
    "plt.xlabel('y')\n",
    "plt.ylabel('x')\n",
    "plt.show()\n"
   ],
   "metadata": {
    "collapsed": false,
    "ExecuteTime": {
     "end_time": "2024-03-18T22:10:05.147070Z",
     "start_time": "2024-03-18T22:10:04.911139Z"
    }
   },
   "id": "7b64bdb3ee4ebb8e",
   "execution_count": 349
  },
  {
   "cell_type": "code",
   "outputs": [],
   "source": [],
   "metadata": {
    "collapsed": false,
    "ExecuteTime": {
     "end_time": "2024-03-18T22:10:05.151935Z",
     "start_time": "2024-03-18T22:10:05.149415Z"
    }
   },
   "id": "7c34927e40d242c0",
   "execution_count": 349
  }
 ],
 "metadata": {
  "kernelspec": {
   "display_name": "Python 3",
   "language": "python",
   "name": "python3"
  },
  "language_info": {
   "codemirror_mode": {
    "name": "ipython",
    "version": 2
   },
   "file_extension": ".py",
   "mimetype": "text/x-python",
   "name": "python",
   "nbconvert_exporter": "python",
   "pygments_lexer": "ipython2",
   "version": "2.7.6"
  }
 },
 "nbformat": 4,
 "nbformat_minor": 5
}
